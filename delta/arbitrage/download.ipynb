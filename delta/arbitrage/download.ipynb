{
 "cells": [
  {
   "cell_type": "code",
   "execution_count": 3,
   "metadata": {
    "colab": {
     "base_uri": "https://localhost:8080/"
    },
    "id": "KLVCYcxHYl67",
    "outputId": "1d7decce-9054-49a2-cd94-1bcc1cd13bf4"
   },
   "outputs": [
    {
     "name": "stdout",
     "output_type": "stream",
     "text": [
      "Looking in indexes: https://pypi.org/simple, https://us-python.pkg.dev/colab-wheels/public/simple/\n",
      "Collecting mysql-connector-python\n",
      "  Downloading mysql_connector_python-8.0.33-cp310-cp310-manylinux1_x86_64.whl (27.4 MB)\n",
      "\u001b[2K     \u001b[90m━━━━━━━━━━━━━━━━━━━━━━━━━━━━━━━━━━━━━━━━\u001b[0m \u001b[32m27.4/27.4 MB\u001b[0m \u001b[31m30.6 MB/s\u001b[0m eta \u001b[36m0:00:00\u001b[0m\n",
      "\u001b[?25hRequirement already satisfied: protobuf<=3.20.3,>=3.11.0 in /usr/local/lib/python3.10/dist-packages (from mysql-connector-python) (3.20.3)\n",
      "Installing collected packages: mysql-connector-python\n",
      "Successfully installed mysql-connector-python-8.0.33\n",
      "Looking in indexes: https://pypi.org/simple, https://us-python.pkg.dev/colab-wheels/public/simple/\n",
      "Requirement already satisfied: pandas in /usr/local/lib/python3.10/dist-packages (1.5.3)\n",
      "Requirement already satisfied: python-dateutil>=2.8.1 in /usr/local/lib/python3.10/dist-packages (from pandas) (2.8.2)\n",
      "Requirement already satisfied: pytz>=2020.1 in /usr/local/lib/python3.10/dist-packages (from pandas) (2022.7.1)\n",
      "Requirement already satisfied: numpy>=1.21.0 in /usr/local/lib/python3.10/dist-packages (from pandas) (1.22.4)\n",
      "Requirement already satisfied: six>=1.5 in /usr/local/lib/python3.10/dist-packages (from python-dateutil>=2.8.1->pandas) (1.16.0)\n",
      "Looking in indexes: https://pypi.org/simple, https://us-python.pkg.dev/colab-wheels/public/simple/\n",
      "Requirement already satisfied: numpy in /usr/local/lib/python3.10/dist-packages (1.22.4)\n",
      "Looking in indexes: https://pypi.org/simple, https://us-python.pkg.dev/colab-wheels/public/simple/\n",
      "Requirement already satisfied: matplotlib in /usr/local/lib/python3.10/dist-packages (3.7.1)\n",
      "Requirement already satisfied: contourpy>=1.0.1 in /usr/local/lib/python3.10/dist-packages (from matplotlib) (1.0.7)\n",
      "Requirement already satisfied: cycler>=0.10 in /usr/local/lib/python3.10/dist-packages (from matplotlib) (0.11.0)\n",
      "Requirement already satisfied: fonttools>=4.22.0 in /usr/local/lib/python3.10/dist-packages (from matplotlib) (4.39.3)\n",
      "Requirement already satisfied: kiwisolver>=1.0.1 in /usr/local/lib/python3.10/dist-packages (from matplotlib) (1.4.4)\n",
      "Requirement already satisfied: numpy>=1.20 in /usr/local/lib/python3.10/dist-packages (from matplotlib) (1.22.4)\n",
      "Requirement already satisfied: packaging>=20.0 in /usr/local/lib/python3.10/dist-packages (from matplotlib) (23.1)\n",
      "Requirement already satisfied: pillow>=6.2.0 in /usr/local/lib/python3.10/dist-packages (from matplotlib) (8.4.0)\n",
      "Requirement already satisfied: pyparsing>=2.3.1 in /usr/local/lib/python3.10/dist-packages (from matplotlib) (3.0.9)\n",
      "Requirement already satisfied: python-dateutil>=2.7 in /usr/local/lib/python3.10/dist-packages (from matplotlib) (2.8.2)\n",
      "Requirement already satisfied: six>=1.5 in /usr/local/lib/python3.10/dist-packages (from python-dateutil>=2.7->matplotlib) (1.16.0)\n"
     ]
    }
   ],
   "source": [
    "# install libraries if needed\n",
    "!pip install mysql-connector-python\n",
    "!pip install pandas\n",
    "!pip install numpy\n",
    "!pip install matplotlib"
   ]
  },
  {
   "cell_type": "code",
   "execution_count": 1,
   "metadata": {
    "id": "stUgC5ynblmG"
   },
   "outputs": [],
   "source": [
    "import pandas as pd\n",
    "import numpy as np\n",
    "import matplotlib.pyplot as plt\n",
    "import datetime"
   ]
  },
  {
   "cell_type": "code",
   "execution_count": 2,
   "metadata": {
    "colab": {
     "base_uri": "https://localhost:8080/",
     "height": 373
    },
    "id": "sJX1oSjgWsdR",
    "outputId": "3b7629d5-bfbf-4027-86e4-2b5e8617b984"
   },
   "outputs": [],
   "source": [
    "# Some functions for connecting to the database - courtesy of Bill\n",
    "import mysql.connector\n",
    "\n",
    "def create_conn():\n",
    "    config = {\n",
    "        'user': 'teamDelta',\n",
    "        'password': 'teamDelta@1234',\n",
    "        'host': 'watstreet-data-cluster-instance-1.cymafucs9kp7.us-east-2.rds.amazonaws.com',\n",
    "        'database': 'watstreetData',\n",
    "        'raise_on_warnings': True\n",
    "    }\n",
    "\n",
    "    try:\n",
    "        cnx = mysql.connector.connect(**config)\n",
    "        return cnx\n",
    "    except mysql.connector.Error as err:\n",
    "        print(err)\n",
    "\n",
    "def database_summary(connection):\n",
    "    cursor = connection.cursor()\n",
    "    \n",
    "    # get list of all tables\n",
    "    cursor.execute(\"SHOW TABLES\")\n",
    "    tables = cursor.fetchall()\n",
    "\n",
    "    for table in tables:\n",
    "        print(f\"\\nTable: {table[0]}\")\n",
    "        \n",
    "        # get table structure\n",
    "        cursor.execute(f\"DESCRIBE {table[0]}\")\n",
    "        structure = cursor.fetchall()\n",
    "        print(\"Structure:\")\n",
    "        for column in structure:\n",
    "            print(column)"
   ]
  },
  {
   "cell_type": "code",
   "execution_count": 3,
   "metadata": {
    "id": "6wR2fx4zYVdG"
   },
   "outputs": [],
   "source": [
    "# create a db connection\n",
    "conn = create_conn()"
   ]
  },
  {
   "cell_type": "code",
   "execution_count": 4,
   "metadata": {
    "colab": {
     "base_uri": "https://localhost:8080/"
    },
    "id": "m00bP5EyY7H0",
    "outputId": "c2ee62a6-6286-49fe-8de1-570338343783"
   },
   "outputs": [
    {
     "name": "stdout",
     "output_type": "stream",
     "text": [
      "\n",
      "Table: cryptoTrades\n",
      "Structure:\n",
      "('uid', b'int', 'NO', 'PRI', None, '')\n",
      "('time', b'double', 'YES', '', None, '')\n",
      "('trade_id', b'text', 'YES', '', None, '')\n",
      "('price', b'double', 'YES', '', None, '')\n",
      "('amount', b'double', 'YES', '', None, '')\n",
      "('exchange', b'text', 'YES', '', None, '')\n",
      "('instrmnt', b'text', 'YES', '', None, '')\n",
      "('vol_dllr', b'double', 'YES', '', None, '')\n",
      "('sell2', b'double', 'YES', '', None, '')\n",
      "('Class', b'text', 'YES', '', None, '')\n",
      "('Asset', b'text', 'YES', '', None, '')\n",
      "('datetime', b'text', 'YES', '', None, '')\n",
      "('year', b'int', 'YES', '', None, '')\n",
      "('hour', b'int', 'YES', '', None, '')\n"
     ]
    }
   ],
   "source": [
    "# Summary of data\n",
    "database_summary(conn)"
   ]
  },
  {
   "cell_type": "markdown",
   "metadata": {
    "id": "Qcw9xWpymCTt"
   },
   "source": [
    "The data exists until August 15, 2022."
   ]
  },
  {
   "cell_type": "code",
   "execution_count": 5,
   "metadata": {},
   "outputs": [],
   "source": [
    "# tickers = [\n",
    "#     'ssv-usdt','fxs-usdt','perl-usdt','rdnt-usdt','gns-usdt','near-usdt','op-usdt','rpl-usdt','ldo-usdt','tru-usdt','arb-usdt'\n",
    "# ]\n",
    "\n",
    "tickers = [\n",
    "    'btc-usdt', 'eth-usdt', 'xrp-usdt', 'doge-usdt', 'bch-usdt', 'tru-usdt', 'aave-usdt'\n",
    "]"
   ]
  },
  {
   "cell_type": "code",
   "execution_count": 6,
   "metadata": {},
   "outputs": [],
   "source": [
    "cursor = conn.cursor()\n",
    "# cursor.execute(\n",
    "#     f\"\"\"\n",
    "#     SELECT datetime, time, price, amount, exchange, instrmnt, vol_dllr, sell2, asset \n",
    "#     FROM cryptoTrades WHERE time > {start_date} and time < {end_date}\n",
    "#     and (exchange = 'bnce' or exchange = 'polo')\n",
    "#     \"\"\"\n",
    "# )\n",
    "cursor.execute(\n",
    "    f\"\"\"\n",
    "    SELECT datetime, time, price, amount, exchange, instrmnt, vol_dllr, sell2, asset \n",
    "    FROM cryptoTrades \n",
    "    WHERE (exchange = 'bnce' OR exchange = 'polo') AND instrmnt IN ({', '.join(['%s'] * len(tickers))})\n",
    "    \"\"\",\n",
    "    params = tickers\n",
    ")"
   ]
  },
  {
   "cell_type": "code",
   "execution_count": 7,
   "metadata": {},
   "outputs": [],
   "source": [
    "x = cursor.fetchall()"
   ]
  },
  {
   "cell_type": "code",
   "execution_count": 8,
   "metadata": {},
   "outputs": [
    {
     "data": {
      "text/plain": [
       "7551118"
      ]
     },
     "execution_count": 8,
     "metadata": {},
     "output_type": "execute_result"
    }
   ],
   "source": [
    "len(x)"
   ]
  },
  {
   "cell_type": "code",
   "execution_count": 9,
   "metadata": {},
   "outputs": [
    {
     "data": {
      "text/html": [
       "<div>\n",
       "<style scoped>\n",
       "    .dataframe tbody tr th:only-of-type {\n",
       "        vertical-align: middle;\n",
       "    }\n",
       "\n",
       "    .dataframe tbody tr th {\n",
       "        vertical-align: top;\n",
       "    }\n",
       "\n",
       "    .dataframe thead th {\n",
       "        text-align: right;\n",
       "    }\n",
       "</style>\n",
       "<table border=\"1\" class=\"dataframe\">\n",
       "  <thead>\n",
       "    <tr style=\"text-align: right;\">\n",
       "      <th></th>\n",
       "      <th>time</th>\n",
       "      <th>price</th>\n",
       "      <th>amount</th>\n",
       "      <th>exchange</th>\n",
       "      <th>instrmnt</th>\n",
       "      <th>vol_dllr</th>\n",
       "      <th>sell2</th>\n",
       "      <th>asset</th>\n",
       "    </tr>\n",
       "    <tr>\n",
       "      <th>datetime</th>\n",
       "      <th></th>\n",
       "      <th></th>\n",
       "      <th></th>\n",
       "      <th></th>\n",
       "      <th></th>\n",
       "      <th></th>\n",
       "      <th></th>\n",
       "      <th></th>\n",
       "    </tr>\n",
       "  </thead>\n",
       "  <tbody>\n",
       "    <tr>\n",
       "      <th>2022-08-15 00:00:00.000999936</th>\n",
       "      <td>1.660522e+12</td>\n",
       "      <td>1935.32</td>\n",
       "      <td>0.03080</td>\n",
       "      <td>bnce</td>\n",
       "      <td>eth-usdt</td>\n",
       "      <td>59.607856</td>\n",
       "      <td>0.0</td>\n",
       "      <td>eth</td>\n",
       "    </tr>\n",
       "    <tr>\n",
       "      <th>2022-08-15 00:00:00.000999936</th>\n",
       "      <td>1.660522e+12</td>\n",
       "      <td>1935.31</td>\n",
       "      <td>0.00950</td>\n",
       "      <td>bnce</td>\n",
       "      <td>eth-usdt</td>\n",
       "      <td>18.385445</td>\n",
       "      <td>1.0</td>\n",
       "      <td>eth</td>\n",
       "    </tr>\n",
       "    <tr>\n",
       "      <th>2022-08-15 00:00:00.001999872</th>\n",
       "      <td>1.660522e+12</td>\n",
       "      <td>24305.25</td>\n",
       "      <td>0.00063</td>\n",
       "      <td>bnce</td>\n",
       "      <td>btc-usdt</td>\n",
       "      <td>15.312308</td>\n",
       "      <td>1.0</td>\n",
       "      <td>btc</td>\n",
       "    </tr>\n",
       "    <tr>\n",
       "      <th>2022-08-15 00:00:00.004000000</th>\n",
       "      <td>1.660522e+12</td>\n",
       "      <td>24307.02</td>\n",
       "      <td>0.00073</td>\n",
       "      <td>bnce</td>\n",
       "      <td>btc-usdt</td>\n",
       "      <td>17.744125</td>\n",
       "      <td>0.0</td>\n",
       "      <td>btc</td>\n",
       "    </tr>\n",
       "    <tr>\n",
       "      <th>2022-08-15 00:00:00.007000064</th>\n",
       "      <td>1.660522e+12</td>\n",
       "      <td>1935.31</td>\n",
       "      <td>0.01850</td>\n",
       "      <td>bnce</td>\n",
       "      <td>eth-usdt</td>\n",
       "      <td>35.803235</td>\n",
       "      <td>1.0</td>\n",
       "      <td>eth</td>\n",
       "    </tr>\n",
       "    <tr>\n",
       "      <th>...</th>\n",
       "      <td>...</td>\n",
       "      <td>...</td>\n",
       "      <td>...</td>\n",
       "      <td>...</td>\n",
       "      <td>...</td>\n",
       "      <td>...</td>\n",
       "      <td>...</td>\n",
       "      <td>...</td>\n",
       "    </tr>\n",
       "    <tr>\n",
       "      <th>2022-08-15 23:59:59.993999872</th>\n",
       "      <td>1.660608e+12</td>\n",
       "      <td>24094.82</td>\n",
       "      <td>0.00057</td>\n",
       "      <td>bnce</td>\n",
       "      <td>btc-usdt</td>\n",
       "      <td>13.734047</td>\n",
       "      <td>0.0</td>\n",
       "      <td>btc</td>\n",
       "    </tr>\n",
       "    <tr>\n",
       "      <th>2022-08-15 23:59:59.996000000</th>\n",
       "      <td>1.660608e+12</td>\n",
       "      <td>1899.06</td>\n",
       "      <td>0.04520</td>\n",
       "      <td>bnce</td>\n",
       "      <td>eth-usdt</td>\n",
       "      <td>85.837512</td>\n",
       "      <td>0.0</td>\n",
       "      <td>eth</td>\n",
       "    </tr>\n",
       "    <tr>\n",
       "      <th>2022-08-15 23:59:59.996000000</th>\n",
       "      <td>1.660608e+12</td>\n",
       "      <td>1899.06</td>\n",
       "      <td>0.04340</td>\n",
       "      <td>bnce</td>\n",
       "      <td>eth-usdt</td>\n",
       "      <td>82.419204</td>\n",
       "      <td>0.0</td>\n",
       "      <td>eth</td>\n",
       "    </tr>\n",
       "    <tr>\n",
       "      <th>2022-08-15 23:59:59.996999936</th>\n",
       "      <td>1.660608e+12</td>\n",
       "      <td>24093.38</td>\n",
       "      <td>0.00065</td>\n",
       "      <td>bnce</td>\n",
       "      <td>btc-usdt</td>\n",
       "      <td>15.660697</td>\n",
       "      <td>1.0</td>\n",
       "      <td>btc</td>\n",
       "    </tr>\n",
       "    <tr>\n",
       "      <th>2022-08-15 23:59:59.998000128</th>\n",
       "      <td>1.660608e+12</td>\n",
       "      <td>24093.38</td>\n",
       "      <td>0.00109</td>\n",
       "      <td>bnce</td>\n",
       "      <td>btc-usdt</td>\n",
       "      <td>26.261784</td>\n",
       "      <td>1.0</td>\n",
       "      <td>btc</td>\n",
       "    </tr>\n",
       "  </tbody>\n",
       "</table>\n",
       "<p>7551118 rows × 8 columns</p>\n",
       "</div>"
      ],
      "text/plain": [
       "                                       time     price   amount exchange  \\\n",
       "datetime                                                                  \n",
       "2022-08-15 00:00:00.000999936  1.660522e+12   1935.32  0.03080     bnce   \n",
       "2022-08-15 00:00:00.000999936  1.660522e+12   1935.31  0.00950     bnce   \n",
       "2022-08-15 00:00:00.001999872  1.660522e+12  24305.25  0.00063     bnce   \n",
       "2022-08-15 00:00:00.004000000  1.660522e+12  24307.02  0.00073     bnce   \n",
       "2022-08-15 00:00:00.007000064  1.660522e+12   1935.31  0.01850     bnce   \n",
       "...                                     ...       ...      ...      ...   \n",
       "2022-08-15 23:59:59.993999872  1.660608e+12  24094.82  0.00057     bnce   \n",
       "2022-08-15 23:59:59.996000000  1.660608e+12   1899.06  0.04520     bnce   \n",
       "2022-08-15 23:59:59.996000000  1.660608e+12   1899.06  0.04340     bnce   \n",
       "2022-08-15 23:59:59.996999936  1.660608e+12  24093.38  0.00065     bnce   \n",
       "2022-08-15 23:59:59.998000128  1.660608e+12  24093.38  0.00109     bnce   \n",
       "\n",
       "                               instrmnt   vol_dllr  sell2 asset  \n",
       "datetime                                                         \n",
       "2022-08-15 00:00:00.000999936  eth-usdt  59.607856    0.0   eth  \n",
       "2022-08-15 00:00:00.000999936  eth-usdt  18.385445    1.0   eth  \n",
       "2022-08-15 00:00:00.001999872  btc-usdt  15.312308    1.0   btc  \n",
       "2022-08-15 00:00:00.004000000  btc-usdt  17.744125    0.0   btc  \n",
       "2022-08-15 00:00:00.007000064  eth-usdt  35.803235    1.0   eth  \n",
       "...                                 ...        ...    ...   ...  \n",
       "2022-08-15 23:59:59.993999872  btc-usdt  13.734047    0.0   btc  \n",
       "2022-08-15 23:59:59.996000000  eth-usdt  85.837512    0.0   eth  \n",
       "2022-08-15 23:59:59.996000000  eth-usdt  82.419204    0.0   eth  \n",
       "2022-08-15 23:59:59.996999936  btc-usdt  15.660697    1.0   btc  \n",
       "2022-08-15 23:59:59.998000128  btc-usdt  26.261784    1.0   btc  \n",
       "\n",
       "[7551118 rows x 8 columns]"
      ]
     },
     "execution_count": 9,
     "metadata": {},
     "output_type": "execute_result"
    }
   ],
   "source": [
    "df = pd.DataFrame(x)\n",
    "columns = [\"datetime\", \"time\", \"price\", \"amount\", \"exchange\", \"instrmnt\", \"vol_dllr\", \"sell2\", \"asset\"]\n",
    "df.columns = columns\n",
    "df.set_index(\"datetime\", inplace=True)\n",
    "df.index = pd.to_datetime(df.index)\n",
    "df.sort_index(inplace=True)\n",
    "df"
   ]
  },
  {
   "cell_type": "code",
   "execution_count": 10,
   "metadata": {},
   "outputs": [
    {
     "data": {
      "text/plain": [
       "array(['eth-usdt', 'btc-usdt', 'xrp-usdt', 'bch-usdt', 'doge-usdt',\n",
       "       'tru-usdt', 'aave-usdt'], dtype=object)"
      ]
     },
     "execution_count": 10,
     "metadata": {},
     "output_type": "execute_result"
    }
   ],
   "source": [
    "df.instrmnt.unique()"
   ]
  },
  {
   "cell_type": "code",
   "execution_count": 11,
   "metadata": {},
   "outputs": [
    {
     "data": {
      "text/plain": [
       "array(['bnce', 'polo'], dtype=object)"
      ]
     },
     "execution_count": 11,
     "metadata": {},
     "output_type": "execute_result"
    }
   ],
   "source": [
    "df.exchange.unique()"
   ]
  },
  {
   "cell_type": "code",
   "execution_count": 12,
   "metadata": {},
   "outputs": [],
   "source": [
    "df.to_parquet(\"Binance-Poloniex-Hugh.parquet\")"
   ]
  },
  {
   "cell_type": "code",
   "execution_count": null,
   "metadata": {},
   "outputs": [],
   "source": []
  },
  {
   "cell_type": "code",
   "execution_count": 49,
   "metadata": {},
   "outputs": [],
   "source": [
    "df[\"flow\"] = df.sell2.replace(0, -1) * -1\n",
    "df[\"flow\"] = df.flow * df.amount"
   ]
  },
  {
   "cell_type": "code",
   "execution_count": 20,
   "metadata": {},
   "outputs": [
    {
     "data": {
      "text/html": [
       "<div>\n",
       "<style scoped>\n",
       "    .dataframe tbody tr th:only-of-type {\n",
       "        vertical-align: middle;\n",
       "    }\n",
       "\n",
       "    .dataframe tbody tr th {\n",
       "        vertical-align: top;\n",
       "    }\n",
       "\n",
       "    .dataframe thead th {\n",
       "        text-align: right;\n",
       "    }\n",
       "</style>\n",
       "<table border=\"1\" class=\"dataframe\">\n",
       "  <thead>\n",
       "    <tr style=\"text-align: right;\">\n",
       "      <th></th>\n",
       "      <th>time</th>\n",
       "      <th>price</th>\n",
       "      <th>amount</th>\n",
       "      <th>exchange</th>\n",
       "      <th>instrmnt</th>\n",
       "      <th>vol_dllr</th>\n",
       "      <th>sell2</th>\n",
       "      <th>asset</th>\n",
       "    </tr>\n",
       "    <tr>\n",
       "      <th>datetime</th>\n",
       "      <th></th>\n",
       "      <th></th>\n",
       "      <th></th>\n",
       "      <th></th>\n",
       "      <th></th>\n",
       "      <th></th>\n",
       "      <th></th>\n",
       "      <th></th>\n",
       "    </tr>\n",
       "  </thead>\n",
       "  <tbody>\n",
       "    <tr>\n",
       "      <th>2022-08-15 00:00:00.001999872</th>\n",
       "      <td>1.660522e+12</td>\n",
       "      <td>24305.25</td>\n",
       "      <td>0.00063</td>\n",
       "      <td>bnce</td>\n",
       "      <td>btc-usdt</td>\n",
       "      <td>15.312308</td>\n",
       "      <td>1.0</td>\n",
       "      <td>btc</td>\n",
       "    </tr>\n",
       "    <tr>\n",
       "      <th>2022-08-15 00:00:00.004000000</th>\n",
       "      <td>1.660522e+12</td>\n",
       "      <td>24307.02</td>\n",
       "      <td>0.00073</td>\n",
       "      <td>bnce</td>\n",
       "      <td>btc-usdt</td>\n",
       "      <td>17.744125</td>\n",
       "      <td>0.0</td>\n",
       "      <td>btc</td>\n",
       "    </tr>\n",
       "    <tr>\n",
       "      <th>2022-08-15 00:00:00.008000000</th>\n",
       "      <td>1.660522e+12</td>\n",
       "      <td>24305.25</td>\n",
       "      <td>0.00090</td>\n",
       "      <td>bnce</td>\n",
       "      <td>btc-usdt</td>\n",
       "      <td>21.874725</td>\n",
       "      <td>1.0</td>\n",
       "      <td>btc</td>\n",
       "    </tr>\n",
       "    <tr>\n",
       "      <th>2022-08-15 00:00:00.008000000</th>\n",
       "      <td>1.660522e+12</td>\n",
       "      <td>24307.02</td>\n",
       "      <td>0.00117</td>\n",
       "      <td>bnce</td>\n",
       "      <td>btc-usdt</td>\n",
       "      <td>28.439213</td>\n",
       "      <td>0.0</td>\n",
       "      <td>btc</td>\n",
       "    </tr>\n",
       "    <tr>\n",
       "      <th>2022-08-15 00:00:00.008000000</th>\n",
       "      <td>1.660522e+12</td>\n",
       "      <td>24307.02</td>\n",
       "      <td>0.00092</td>\n",
       "      <td>bnce</td>\n",
       "      <td>btc-usdt</td>\n",
       "      <td>22.362458</td>\n",
       "      <td>0.0</td>\n",
       "      <td>btc</td>\n",
       "    </tr>\n",
       "  </tbody>\n",
       "</table>\n",
       "</div>"
      ],
      "text/plain": [
       "                                       time     price   amount exchange  \\\n",
       "datetime                                                                  \n",
       "2022-08-15 00:00:00.001999872  1.660522e+12  24305.25  0.00063     bnce   \n",
       "2022-08-15 00:00:00.004000000  1.660522e+12  24307.02  0.00073     bnce   \n",
       "2022-08-15 00:00:00.008000000  1.660522e+12  24305.25  0.00090     bnce   \n",
       "2022-08-15 00:00:00.008000000  1.660522e+12  24307.02  0.00117     bnce   \n",
       "2022-08-15 00:00:00.008000000  1.660522e+12  24307.02  0.00092     bnce   \n",
       "\n",
       "                               instrmnt   vol_dllr  sell2 asset  \n",
       "datetime                                                         \n",
       "2022-08-15 00:00:00.001999872  btc-usdt  15.312308    1.0   btc  \n",
       "2022-08-15 00:00:00.004000000  btc-usdt  17.744125    0.0   btc  \n",
       "2022-08-15 00:00:00.008000000  btc-usdt  21.874725    1.0   btc  \n",
       "2022-08-15 00:00:00.008000000  btc-usdt  28.439213    0.0   btc  \n",
       "2022-08-15 00:00:00.008000000  btc-usdt  22.362458    0.0   btc  "
      ]
     },
     "execution_count": 20,
     "metadata": {},
     "output_type": "execute_result"
    }
   ],
   "source": [
    "df.head()"
   ]
  },
  {
   "cell_type": "code",
   "execution_count": null,
   "metadata": {
    "id": "2BMIwD4fdKhh"
   },
   "outputs": [],
   "source": []
  }
 ],
 "metadata": {
  "colab": {
   "provenance": []
  },
  "kernelspec": {
   "display_name": "factor-modelling",
   "language": "python",
   "name": "factor-modelling"
  },
  "language_info": {
   "codemirror_mode": {
    "name": "ipython",
    "version": 3
   },
   "file_extension": ".py",
   "mimetype": "text/x-python",
   "name": "python",
   "nbconvert_exporter": "python",
   "pygments_lexer": "ipython3",
   "version": "3.9.13"
  }
 },
 "nbformat": 4,
 "nbformat_minor": 4
}
