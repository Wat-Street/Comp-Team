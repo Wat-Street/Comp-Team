{
 "cells": [
  {
   "cell_type": "code",
   "execution_count": 52,
   "metadata": {},
   "outputs": [
    {
     "name": "stderr",
     "output_type": "stream",
     "text": [
      "/var/folders/xh/qjg6479d50q0rwvhnz1_49v00000gn/T/ipykernel_1564/1123596123.py:4: MatplotlibDeprecationWarning: The seaborn styles shipped by Matplotlib are deprecated since 3.6, as they no longer correspond to the styles shipped by seaborn. However, they will remain available as 'seaborn-v0_8-<style>'. Alternatively, directly use the seaborn API instead.\n",
      "  plt.style.use(\"seaborn\")\n"
     ]
    }
   ],
   "source": [
    "import pandas as pd\n",
    "import numpy as np\n",
    "import matplotlib.pyplot as plt\n",
    "plt.style.use(\"seaborn\")"
   ]
  },
  {
   "cell_type": "code",
   "execution_count": 3,
   "metadata": {},
   "outputs": [],
   "source": [
    "df = pd.read_csv(\"formattedData/08-15-2022.csv\", nrows=100000)"
   ]
  },
  {
   "cell_type": "code",
   "execution_count": 14,
   "metadata": {},
   "outputs": [
    {
     "data": {
      "text/html": [
       "<div>\n",
       "<style scoped>\n",
       "    .dataframe tbody tr th:only-of-type {\n",
       "        vertical-align: middle;\n",
       "    }\n",
       "\n",
       "    .dataframe tbody tr th {\n",
       "        vertical-align: top;\n",
       "    }\n",
       "\n",
       "    .dataframe thead th {\n",
       "        text-align: right;\n",
       "    }\n",
       "</style>\n",
       "<table border=\"1\" class=\"dataframe\">\n",
       "  <thead>\n",
       "    <tr style=\"text-align: right;\">\n",
       "      <th></th>\n",
       "      <th>Unnamed: 0</th>\n",
       "      <th>time</th>\n",
       "      <th>trade_id</th>\n",
       "      <th>price</th>\n",
       "      <th>amount</th>\n",
       "      <th>exchange</th>\n",
       "      <th>instrmnt</th>\n",
       "      <th>vol_dllr</th>\n",
       "      <th>sell2</th>\n",
       "      <th>Class</th>\n",
       "      <th>Asset</th>\n",
       "      <th>datetime</th>\n",
       "      <th>year</th>\n",
       "      <th>hour</th>\n",
       "    </tr>\n",
       "  </thead>\n",
       "  <tbody>\n",
       "    <tr>\n",
       "      <th>0</th>\n",
       "      <td>0</td>\n",
       "      <td>1.660578e+12</td>\n",
       "      <td>000001a21142e31ed266f2281467cac01b759752ddfd4c...</td>\n",
       "      <td>0.29070</td>\n",
       "      <td>10.320000</td>\n",
       "      <td>bbox</td>\n",
       "      <td>ont-usdt</td>\n",
       "      <td>3.000024</td>\n",
       "      <td>0.0</td>\n",
       "      <td>spot</td>\n",
       "      <td>ont</td>\n",
       "      <td>2022-08-15 15:41:52.248999936</td>\n",
       "      <td>2022</td>\n",
       "      <td>15</td>\n",
       "    </tr>\n",
       "    <tr>\n",
       "      <th>1</th>\n",
       "      <td>1</td>\n",
       "      <td>1.660565e+12</td>\n",
       "      <td>0000045572b285d5c06ca47fde8cdbba688e57bd8e69bc...</td>\n",
       "      <td>0.00017</td>\n",
       "      <td>0.023600</td>\n",
       "      <td>bbox</td>\n",
       "      <td>qtum-btc</td>\n",
       "      <td>0.000004</td>\n",
       "      <td>0.0</td>\n",
       "      <td>spot</td>\n",
       "      <td>qtum</td>\n",
       "      <td>2022-08-15 11:57:16.963000064</td>\n",
       "      <td>2022</td>\n",
       "      <td>11</td>\n",
       "    </tr>\n",
       "    <tr>\n",
       "      <th>2</th>\n",
       "      <td>2</td>\n",
       "      <td>1.660546e+12</td>\n",
       "      <td>000006ee08295995ce6a0660705422c8be6d780ea7d64c...</td>\n",
       "      <td>8.63800</td>\n",
       "      <td>371.708000</td>\n",
       "      <td>bbox</td>\n",
       "      <td>link-usdt</td>\n",
       "      <td>3210.813704</td>\n",
       "      <td>1.0</td>\n",
       "      <td>spot</td>\n",
       "      <td>link</td>\n",
       "      <td>2022-08-15 06:38:44.241999872</td>\n",
       "      <td>2022</td>\n",
       "      <td>6</td>\n",
       "    </tr>\n",
       "    <tr>\n",
       "      <th>3</th>\n",
       "      <td>3</td>\n",
       "      <td>1.660551e+12</td>\n",
       "      <td>00000c04ff12bd00032c4ae5d9252898570c3808bf3257...</td>\n",
       "      <td>23964.00000</td>\n",
       "      <td>0.008345</td>\n",
       "      <td>bbox</td>\n",
       "      <td>btc-usdt</td>\n",
       "      <td>199.979580</td>\n",
       "      <td>1.0</td>\n",
       "      <td>spot</td>\n",
       "      <td>btc</td>\n",
       "      <td>2022-08-15 08:13:15.577999872</td>\n",
       "      <td>2022</td>\n",
       "      <td>8</td>\n",
       "    </tr>\n",
       "    <tr>\n",
       "      <th>4</th>\n",
       "      <td>4</td>\n",
       "      <td>1.660529e+12</td>\n",
       "      <td>00000cfe3ba1fa64e7621236b74ac94dfd76a11b747cab...</td>\n",
       "      <td>3.87650</td>\n",
       "      <td>0.515900</td>\n",
       "      <td>bbox</td>\n",
       "      <td>snx-usdt</td>\n",
       "      <td>1.999886</td>\n",
       "      <td>1.0</td>\n",
       "      <td>spot</td>\n",
       "      <td>snx</td>\n",
       "      <td>2022-08-15 02:02:28.702000128</td>\n",
       "      <td>2022</td>\n",
       "      <td>2</td>\n",
       "    </tr>\n",
       "  </tbody>\n",
       "</table>\n",
       "</div>"
      ],
      "text/plain": [
       "   Unnamed: 0          time   \n",
       "0           0  1.660578e+12  \\\n",
       "1           1  1.660565e+12   \n",
       "2           2  1.660546e+12   \n",
       "3           3  1.660551e+12   \n",
       "4           4  1.660529e+12   \n",
       "\n",
       "                                            trade_id        price      amount   \n",
       "0  000001a21142e31ed266f2281467cac01b759752ddfd4c...      0.29070   10.320000  \\\n",
       "1  0000045572b285d5c06ca47fde8cdbba688e57bd8e69bc...      0.00017    0.023600   \n",
       "2  000006ee08295995ce6a0660705422c8be6d780ea7d64c...      8.63800  371.708000   \n",
       "3  00000c04ff12bd00032c4ae5d9252898570c3808bf3257...  23964.00000    0.008345   \n",
       "4  00000cfe3ba1fa64e7621236b74ac94dfd76a11b747cab...      3.87650    0.515900   \n",
       "\n",
       "  exchange   instrmnt     vol_dllr  sell2 Class Asset   \n",
       "0     bbox   ont-usdt     3.000024    0.0  spot   ont  \\\n",
       "1     bbox   qtum-btc     0.000004    0.0  spot  qtum   \n",
       "2     bbox  link-usdt  3210.813704    1.0  spot  link   \n",
       "3     bbox   btc-usdt   199.979580    1.0  spot   btc   \n",
       "4     bbox   snx-usdt     1.999886    1.0  spot   snx   \n",
       "\n",
       "                        datetime  year  hour  \n",
       "0  2022-08-15 15:41:52.248999936  2022    15  \n",
       "1  2022-08-15 11:57:16.963000064  2022    11  \n",
       "2  2022-08-15 06:38:44.241999872  2022     6  \n",
       "3  2022-08-15 08:13:15.577999872  2022     8  \n",
       "4  2022-08-15 02:02:28.702000128  2022     2  "
      ]
     },
     "execution_count": 14,
     "metadata": {},
     "output_type": "execute_result"
    }
   ],
   "source": [
    "df.head()"
   ]
  },
  {
   "cell_type": "code",
   "execution_count": 13,
   "metadata": {},
   "outputs": [
    {
     "data": {
      "text/plain": [
       "Index(['Unnamed: 0', 'time', 'trade_id', 'price', 'amount', 'exchange',\n",
       "       'instrmnt', 'vol_dllr', 'sell2', 'Class', 'Asset', 'datetime', 'year',\n",
       "       'hour'],\n",
       "      dtype='object')"
      ]
     },
     "execution_count": 13,
     "metadata": {},
     "output_type": "execute_result"
    }
   ],
   "source": [
    "df.columns"
   ]
  },
  {
   "cell_type": "code",
   "execution_count": 6,
   "metadata": {},
   "outputs": [
    {
     "data": {
      "text/plain": [
       "exchange\n",
       "bbox    100000\n",
       "Name: count, dtype: int64"
      ]
     },
     "execution_count": 6,
     "metadata": {},
     "output_type": "execute_result"
    }
   ],
   "source": [
    "df.exchange.value_counts()"
   ]
  },
  {
   "cell_type": "code",
   "execution_count": 7,
   "metadata": {},
   "outputs": [
    {
     "data": {
      "text/plain": [
       "Unnamed: 0                                                99999\n",
       "time                                            1660565567108.0\n",
       "trade_id      0b088ff070e4f1cfe380f63553cabdf7beceba2332ec1f...\n",
       "price                                                  57.38539\n",
       "amount                                                   0.0774\n",
       "exchange                                                   bbox\n",
       "instrmnt                                               ksm-usdt\n",
       "vol_dllr                                               4.441629\n",
       "sell2                                                       1.0\n",
       "Class                                                      spot\n",
       "Asset                                                       ksm\n",
       "datetime                          2022-08-15 12:12:47.108000000\n",
       "year                                                       2022\n",
       "hour                                                         12\n",
       "Name: 99999, dtype: object"
      ]
     },
     "execution_count": 7,
     "metadata": {},
     "output_type": "execute_result"
    }
   ],
   "source": [
    "df.iloc[-1]"
   ]
  },
  {
   "cell_type": "code",
   "execution_count": 9,
   "metadata": {},
   "outputs": [],
   "source": [
    "df_next_100000 = pd.read_csv(\"formattedData/08-15-2022.csv\", skiprows=range(1,100000), nrows=100000)"
   ]
  },
  {
   "cell_type": "code",
   "execution_count": 12,
   "metadata": {},
   "outputs": [
    {
     "data": {
      "text/plain": [
       "exchange\n",
       "bbox    100000\n",
       "Name: count, dtype: int64"
      ]
     },
     "execution_count": 12,
     "metadata": {},
     "output_type": "execute_result"
    }
   ],
   "source": [
    "df_next_100000.exchange.value_counts()"
   ]
  },
  {
   "cell_type": "code",
   "execution_count": 41,
   "metadata": {},
   "outputs": [],
   "source": [
    "important_colums = ['price', 'amount', 'exchange', 'vol_dllr', 'instrmnt','Asset', 'sell2', 'datetime']"
   ]
  },
  {
   "cell_type": "code",
   "execution_count": 42,
   "metadata": {},
   "outputs": [],
   "source": [
    "key_data_df = pd.read_csv(\"formattedData/08-15-2022.csv\", usecols=important_colums) # 9*10 seconds hopefully"
   ]
  },
  {
   "cell_type": "code",
   "execution_count": 43,
   "metadata": {},
   "outputs": [
    {
     "data": {
      "text/html": [
       "<div>\n",
       "<style scoped>\n",
       "    .dataframe tbody tr th:only-of-type {\n",
       "        vertical-align: middle;\n",
       "    }\n",
       "\n",
       "    .dataframe tbody tr th {\n",
       "        vertical-align: top;\n",
       "    }\n",
       "\n",
       "    .dataframe thead th {\n",
       "        text-align: right;\n",
       "    }\n",
       "</style>\n",
       "<table border=\"1\" class=\"dataframe\">\n",
       "  <thead>\n",
       "    <tr style=\"text-align: right;\">\n",
       "      <th></th>\n",
       "      <th>price</th>\n",
       "      <th>amount</th>\n",
       "      <th>exchange</th>\n",
       "      <th>instrmnt</th>\n",
       "      <th>vol_dllr</th>\n",
       "      <th>sell2</th>\n",
       "      <th>Asset</th>\n",
       "      <th>datetime</th>\n",
       "    </tr>\n",
       "  </thead>\n",
       "  <tbody>\n",
       "    <tr>\n",
       "      <th>0</th>\n",
       "      <td>0.29070</td>\n",
       "      <td>10.320000</td>\n",
       "      <td>bbox</td>\n",
       "      <td>ont-usdt</td>\n",
       "      <td>3.000024</td>\n",
       "      <td>0.0</td>\n",
       "      <td>ont</td>\n",
       "      <td>2022-08-15 15:41:52.248999936</td>\n",
       "    </tr>\n",
       "    <tr>\n",
       "      <th>1</th>\n",
       "      <td>0.00017</td>\n",
       "      <td>0.023600</td>\n",
       "      <td>bbox</td>\n",
       "      <td>qtum-btc</td>\n",
       "      <td>0.000004</td>\n",
       "      <td>0.0</td>\n",
       "      <td>qtum</td>\n",
       "      <td>2022-08-15 11:57:16.963000064</td>\n",
       "    </tr>\n",
       "    <tr>\n",
       "      <th>2</th>\n",
       "      <td>8.63800</td>\n",
       "      <td>371.708000</td>\n",
       "      <td>bbox</td>\n",
       "      <td>link-usdt</td>\n",
       "      <td>3210.813704</td>\n",
       "      <td>1.0</td>\n",
       "      <td>link</td>\n",
       "      <td>2022-08-15 06:38:44.241999872</td>\n",
       "    </tr>\n",
       "    <tr>\n",
       "      <th>3</th>\n",
       "      <td>23964.00000</td>\n",
       "      <td>0.008345</td>\n",
       "      <td>bbox</td>\n",
       "      <td>btc-usdt</td>\n",
       "      <td>199.979580</td>\n",
       "      <td>1.0</td>\n",
       "      <td>btc</td>\n",
       "      <td>2022-08-15 08:13:15.577999872</td>\n",
       "    </tr>\n",
       "    <tr>\n",
       "      <th>4</th>\n",
       "      <td>3.87650</td>\n",
       "      <td>0.515900</td>\n",
       "      <td>bbox</td>\n",
       "      <td>snx-usdt</td>\n",
       "      <td>1.999886</td>\n",
       "      <td>1.0</td>\n",
       "      <td>snx</td>\n",
       "      <td>2022-08-15 02:02:28.702000128</td>\n",
       "    </tr>\n",
       "  </tbody>\n",
       "</table>\n",
       "</div>"
      ],
      "text/plain": [
       "         price      amount exchange   instrmnt     vol_dllr  sell2 Asset   \n",
       "0      0.29070   10.320000     bbox   ont-usdt     3.000024    0.0   ont  \\\n",
       "1      0.00017    0.023600     bbox   qtum-btc     0.000004    0.0  qtum   \n",
       "2      8.63800  371.708000     bbox  link-usdt  3210.813704    1.0  link   \n",
       "3  23964.00000    0.008345     bbox   btc-usdt   199.979580    1.0   btc   \n",
       "4      3.87650    0.515900     bbox   snx-usdt     1.999886    1.0   snx   \n",
       "\n",
       "                        datetime  \n",
       "0  2022-08-15 15:41:52.248999936  \n",
       "1  2022-08-15 11:57:16.963000064  \n",
       "2  2022-08-15 06:38:44.241999872  \n",
       "3  2022-08-15 08:13:15.577999872  \n",
       "4  2022-08-15 02:02:28.702000128  "
      ]
     },
     "execution_count": 43,
     "metadata": {},
     "output_type": "execute_result"
    }
   ],
   "source": [
    "key_data_df.head()"
   ]
  },
  {
   "cell_type": "code",
   "execution_count": 20,
   "metadata": {},
   "outputs": [
    {
     "data": {
      "text/plain": [
       "exchange\n",
       "binc    29970400\n",
       "bnce    22041534\n",
       "huob     7832589\n",
       "okex     5874344\n",
       "kcon     5311254\n",
       "cbse     3666350\n",
       "bfrx     2486944\n",
       "bbox     2319971\n",
       "ftxx     2173028\n",
       "bgon     2107210\n",
       "upbt      994867\n",
       "hitb      923029\n",
       "krkn      861095\n",
       "zbcn      718789\n",
       "bthb      701995\n",
       "cnex      687319\n",
       "bfnx      555748\n",
       "bnus      445602\n",
       "gmni      205235\n",
       "bequ      205163\n",
       "btrk      171956\n",
       "ftxu      167570\n",
       "btrx      123829\n",
       "bfly      113837\n",
       "polo      109874\n",
       "itbi       88986\n",
       "cone       84370\n",
       "stmp       83346\n",
       "okcn       64702\n",
       "btso       42759\n",
       "quon       42540\n",
       "cucy       34502\n",
       "btcb       32086\n",
       "cexi       30431\n",
       "btba       25171\n",
       "ccck       23796\n",
       "korb       19211\n",
       "yobt       15787\n",
       "zaif        9728\n",
       "oslx        1750\n",
       "sxha        1597\n",
       "trck        1583\n",
       "eris        1404\n",
       "cnmt         711\n",
       "bndx         621\n",
       "btmx         292\n",
       "bl3p         231\n",
       "Name: count, dtype: int64"
      ]
     },
     "execution_count": 20,
     "metadata": {},
     "output_type": "execute_result"
    }
   ],
   "source": [
    "key_data_df.exchange.value_counts()"
   ]
  },
  {
   "cell_type": "code",
   "execution_count": 84,
   "metadata": {},
   "outputs": [
    {
     "data": {
      "text/plain": [
       "sell2\n",
       "0.0    46528353\n",
       "1.0    44846783\n",
       "Name: count, dtype: int64"
      ]
     },
     "execution_count": 84,
     "metadata": {},
     "output_type": "execute_result"
    }
   ],
   "source": [
    "key_data_df.sell2.value_counts()"
   ]
  },
  {
   "cell_type": "code",
   "execution_count": 148,
   "metadata": {},
   "outputs": [],
   "source": [
    "all_binance_trades = key_data_df[(key_data_df.exchange == 'bnce')]"
   ]
  },
  {
   "cell_type": "code",
   "execution_count": 149,
   "metadata": {},
   "outputs": [
    {
     "data": {
      "text/plain": [
       "price       22041534\n",
       "amount      22041534\n",
       "exchange    22041534\n",
       "instrmnt    22041534\n",
       "vol_dllr    22041534\n",
       "sell2       22041534\n",
       "Asset       22041534\n",
       "dtype: int64"
      ]
     },
     "execution_count": 149,
     "metadata": {},
     "output_type": "execute_result"
    }
   ],
   "source": [
    "all_binance_trades.set_index('datetime', inplace=True)\n",
    "all_binance_trades.count()"
   ]
  },
  {
   "cell_type": "code",
   "execution_count": 156,
   "metadata": {},
   "outputs": [
    {
     "data": {
      "text/plain": [
       "<Axes: xlabel='datetime'>"
      ]
     },
     "execution_count": 156,
     "metadata": {},
     "output_type": "execute_result"
    },
    {
     "data": {
      "image/png": "[encoded data removed]",
      "text/plain": [
       "<Figure size 800x550 with 1 Axes>"
      ]
     },
     "metadata": {},
     "output_type": "display_data"
    }
   ],
   "source": [
    "all_binance_trades.price.plot()"
   ]
  },
  {
   "cell_type": "code",
   "execution_count": 151,
   "metadata": {},
   "outputs": [
    {
     "data": {
      "text/html": [
       "<div>\n",
       "<style scoped>\n",
       "    .dataframe tbody tr th:only-of-type {\n",
       "        vertical-align: middle;\n",
       "    }\n",
       "\n",
       "    .dataframe tbody tr th {\n",
       "        vertical-align: top;\n",
       "    }\n",
       "\n",
       "    .dataframe thead th {\n",
       "        text-align: right;\n",
       "    }\n",
       "</style>\n",
       "<table border=\"1\" class=\"dataframe\">\n",
       "  <thead>\n",
       "    <tr style=\"text-align: right;\">\n",
       "      <th></th>\n",
       "      <th>price</th>\n",
       "      <th>amount</th>\n",
       "      <th>exchange</th>\n",
       "      <th>instrmnt</th>\n",
       "      <th>vol_dllr</th>\n",
       "      <th>sell2</th>\n",
       "      <th>Asset</th>\n",
       "    </tr>\n",
       "    <tr>\n",
       "      <th>datetime</th>\n",
       "      <th></th>\n",
       "      <th></th>\n",
       "      <th></th>\n",
       "      <th></th>\n",
       "      <th></th>\n",
       "      <th></th>\n",
       "      <th></th>\n",
       "    </tr>\n",
       "  </thead>\n",
       "  <tbody>\n",
       "    <tr>\n",
       "      <th>2022-08-15 01:44:29.000000000</th>\n",
       "      <td>0.891000</td>\n",
       "      <td>15.2249</td>\n",
       "      <td>polo</td>\n",
       "      <td>1inch-usdt</td>\n",
       "      <td>13.565386</td>\n",
       "      <td>0.0</td>\n",
       "      <td>1inch</td>\n",
       "    </tr>\n",
       "    <tr>\n",
       "      <th>2022-08-15 23:02:50.000000000</th>\n",
       "      <td>0.000034</td>\n",
       "      <td>72.0000</td>\n",
       "      <td>polo</td>\n",
       "      <td>ava-btc</td>\n",
       "      <td>0.002475</td>\n",
       "      <td>0.0</td>\n",
       "      <td>ava</td>\n",
       "    </tr>\n",
       "    <tr>\n",
       "      <th>2022-08-15 21:56:49.000000000</th>\n",
       "      <td>0.000361</td>\n",
       "      <td>2.9000</td>\n",
       "      <td>polo</td>\n",
       "      <td>link-btc</td>\n",
       "      <td>0.001048</td>\n",
       "      <td>0.0</td>\n",
       "      <td>link</td>\n",
       "    </tr>\n",
       "    <tr>\n",
       "      <th>2022-08-15 21:56:53.000000000</th>\n",
       "      <td>0.000361</td>\n",
       "      <td>4.1000</td>\n",
       "      <td>polo</td>\n",
       "      <td>link-btc</td>\n",
       "      <td>0.001481</td>\n",
       "      <td>0.0</td>\n",
       "      <td>link</td>\n",
       "    </tr>\n",
       "    <tr>\n",
       "      <th>2022-08-15 21:57:02.000000000</th>\n",
       "      <td>0.000361</td>\n",
       "      <td>4.5000</td>\n",
       "      <td>polo</td>\n",
       "      <td>link-btc</td>\n",
       "      <td>0.001626</td>\n",
       "      <td>0.0</td>\n",
       "      <td>link</td>\n",
       "    </tr>\n",
       "  </tbody>\n",
       "</table>\n",
       "</div>"
      ],
      "text/plain": [
       "                                  price   amount exchange    instrmnt   \n",
       "datetime                                                                \n",
       "2022-08-15 01:44:29.000000000  0.891000  15.2249     polo  1inch-usdt  \\\n",
       "2022-08-15 23:02:50.000000000  0.000034  72.0000     polo     ava-btc   \n",
       "2022-08-15 21:56:49.000000000  0.000361   2.9000     polo    link-btc   \n",
       "2022-08-15 21:56:53.000000000  0.000361   4.1000     polo    link-btc   \n",
       "2022-08-15 21:57:02.000000000  0.000361   4.5000     polo    link-btc   \n",
       "\n",
       "                                vol_dllr  sell2  Asset  \n",
       "datetime                                                \n",
       "2022-08-15 01:44:29.000000000  13.565386    0.0  1inch  \n",
       "2022-08-15 23:02:50.000000000   0.002475    0.0    ava  \n",
       "2022-08-15 21:56:49.000000000   0.001048    0.0   link  \n",
       "2022-08-15 21:56:53.000000000   0.001481    0.0   link  \n",
       "2022-08-15 21:57:02.000000000   0.001626    0.0   link  "
      ]
     },
     "execution_count": 151,
     "metadata": {},
     "output_type": "execute_result"
    }
   ],
   "source": [
    "all_poloniex_trades = key_data_df[(key_data_df.exchange == 'polo')]\n",
    "all_poloniex_trades.set_index('datetime', inplace=True)"
   ]
  },
  {
   "cell_type": "code",
   "execution_count": 152,
   "metadata": {},
   "outputs": [
    {
     "data": {
      "text/plain": [
       "<Axes: xlabel='datetime'>"
      ]
     },
     "execution_count": 152,
     "metadata": {},
     "output_type": "execute_result"
    },
    {
     "data": {
      "image/png": "[encoded data removed]",
      "text/plain": [
       "<Figure size 800x550 with 1 Axes>"
      ]
     },
     "metadata": {},
     "output_type": "display_data"
    }
   ],
   "source": [
    "all_poloniex_trades.price.plot()"
   ]
  },
  {
   "cell_type": "code",
   "execution_count": 153,
   "metadata": {},
   "outputs": [
    {
     "data": {
      "text/html": [
       "<div>\n",
       "<style scoped>\n",
       "    .dataframe tbody tr th:only-of-type {\n",
       "        vertical-align: middle;\n",
       "    }\n",
       "\n",
       "    .dataframe tbody tr th {\n",
       "        vertical-align: top;\n",
       "    }\n",
       "\n",
       "    .dataframe thead th {\n",
       "        text-align: right;\n",
       "    }\n",
       "</style>\n",
       "<table border=\"1\" class=\"dataframe\">\n",
       "  <thead>\n",
       "    <tr style=\"text-align: right;\">\n",
       "      <th></th>\n",
       "      <th>price</th>\n",
       "      <th>amount</th>\n",
       "      <th>exchange</th>\n",
       "      <th>instrmnt</th>\n",
       "      <th>vol_dllr</th>\n",
       "      <th>sell2</th>\n",
       "      <th>Asset</th>\n",
       "    </tr>\n",
       "    <tr>\n",
       "      <th>datetime</th>\n",
       "      <th></th>\n",
       "      <th></th>\n",
       "      <th></th>\n",
       "      <th></th>\n",
       "      <th></th>\n",
       "      <th></th>\n",
       "      <th></th>\n",
       "    </tr>\n",
       "  </thead>\n",
       "  <tbody>\n",
       "    <tr>\n",
       "      <th>2022-08-15 01:44:29.000000000</th>\n",
       "      <td>0.891000</td>\n",
       "      <td>15.2249</td>\n",
       "      <td>polo</td>\n",
       "      <td>1inch-usdt</td>\n",
       "      <td>13.565386</td>\n",
       "      <td>0.0</td>\n",
       "      <td>1inch</td>\n",
       "    </tr>\n",
       "    <tr>\n",
       "      <th>2022-08-15 23:02:50.000000000</th>\n",
       "      <td>0.000034</td>\n",
       "      <td>72.0000</td>\n",
       "      <td>polo</td>\n",
       "      <td>ava-btc</td>\n",
       "      <td>0.002475</td>\n",
       "      <td>0.0</td>\n",
       "      <td>ava</td>\n",
       "    </tr>\n",
       "    <tr>\n",
       "      <th>2022-08-15 21:56:49.000000000</th>\n",
       "      <td>0.000361</td>\n",
       "      <td>2.9000</td>\n",
       "      <td>polo</td>\n",
       "      <td>link-btc</td>\n",
       "      <td>0.001048</td>\n",
       "      <td>0.0</td>\n",
       "      <td>link</td>\n",
       "    </tr>\n",
       "    <tr>\n",
       "      <th>2022-08-15 21:56:53.000000000</th>\n",
       "      <td>0.000361</td>\n",
       "      <td>4.1000</td>\n",
       "      <td>polo</td>\n",
       "      <td>link-btc</td>\n",
       "      <td>0.001481</td>\n",
       "      <td>0.0</td>\n",
       "      <td>link</td>\n",
       "    </tr>\n",
       "    <tr>\n",
       "      <th>2022-08-15 21:57:02.000000000</th>\n",
       "      <td>0.000361</td>\n",
       "      <td>4.5000</td>\n",
       "      <td>polo</td>\n",
       "      <td>link-btc</td>\n",
       "      <td>0.001626</td>\n",
       "      <td>0.0</td>\n",
       "      <td>link</td>\n",
       "    </tr>\n",
       "  </tbody>\n",
       "</table>\n",
       "</div>"
      ],
      "text/plain": [
       "                                  price   amount exchange    instrmnt   \n",
       "datetime                                                                \n",
       "2022-08-15 01:44:29.000000000  0.891000  15.2249     polo  1inch-usdt  \\\n",
       "2022-08-15 23:02:50.000000000  0.000034  72.0000     polo     ava-btc   \n",
       "2022-08-15 21:56:49.000000000  0.000361   2.9000     polo    link-btc   \n",
       "2022-08-15 21:56:53.000000000  0.000361   4.1000     polo    link-btc   \n",
       "2022-08-15 21:57:02.000000000  0.000361   4.5000     polo    link-btc   \n",
       "\n",
       "                                vol_dllr  sell2  Asset  \n",
       "datetime                                                \n",
       "2022-08-15 01:44:29.000000000  13.565386    0.0  1inch  \n",
       "2022-08-15 23:02:50.000000000   0.002475    0.0    ava  \n",
       "2022-08-15 21:56:49.000000000   0.001048    0.0   link  \n",
       "2022-08-15 21:56:53.000000000   0.001481    0.0   link  \n",
       "2022-08-15 21:57:02.000000000   0.001626    0.0   link  "
      ]
     },
     "execution_count": 153,
     "metadata": {},
     "output_type": "execute_result"
    }
   ],
   "source": [
    "all_poloniex_trades.head()"
   ]
  },
  {
   "cell_type": "code",
   "execution_count": 154,
   "metadata": {},
   "outputs": [
    {
     "data": {
      "text/plain": [
       "instrmnt\n",
       "ltc-usdt      14300\n",
       "btc-usdt      10298\n",
       "dot-usdt       9751\n",
       "trx-usdt       8365\n",
       "eth-usdt       8005\n",
       "              ...  \n",
       "fsw-usdt          1\n",
       "bond-usdt         1\n",
       "agld-usdt         1\n",
       "api3-usdt         1\n",
       "stake-usdt        1\n",
       "Name: count, Length: 136, dtype: int64"
      ]
     },
     "execution_count": 154,
     "metadata": {},
     "output_type": "execute_result"
    }
   ],
   "source": [
    "all_poloniex_trades.instrmnt.value_counts()"
   ]
  },
  {
   "cell_type": "code",
   "execution_count": 157,
   "metadata": {},
   "outputs": [],
   "source": [
    "binance_trades_btc_ustd = all_binance_trades[all_binance_trades.instrmnt == 'btc-usdt']"
   ]
  },
  {
   "cell_type": "code",
   "execution_count": null,
   "metadata": {},
   "outputs": [],
   "source": [
    "polinex_trades_btc_ustd = all_poloniex_trades[all_poloniex_trades.instrmnt == 'btc-usdt']"
   ]
  },
  {
   "cell_type": "code",
   "execution_count": null,
   "metadata": {},
   "outputs": [
    {
     "name": "stdout",
     "output_type": "stream",
     "text": [
      "Biannce Count\n",
      "price       13822059\n",
      "amount      13822059\n",
      "exchange    13822059\n",
      "instrmnt    13822059\n",
      "vol_dllr    13822059\n",
      "sell2       13822059\n",
      "Asset       13822059\n",
      "dtype: int64\n",
      "Polinex Count\n",
      "price       10298\n",
      "amount      10298\n",
      "exchange    10298\n",
      "instrmnt    10298\n",
      "vol_dllr    10298\n",
      "sell2       10298\n",
      "Asset       10298\n",
      "dtype: int64\n"
     ]
    }
   ],
   "source": [
    "print(\"Biannce Count\")\n",
    "print(binance_trades_btc_ustd.count())\n",
    "print(\"Polinex Count\")\n",
    "print(polinex_trades_btc_ustd.count())"
   ]
  },
  {
   "cell_type": "code",
   "execution_count": null,
   "metadata": {},
   "outputs": [],
   "source": []
  },
  {
   "cell_type": "code",
   "execution_count": 159,
   "metadata": {},
   "outputs": [
    {
     "data": {
      "text/html": [
       "<div>\n",
       "<style scoped>\n",
       "    .dataframe tbody tr th:only-of-type {\n",
       "        vertical-align: middle;\n",
       "    }\n",
       "\n",
       "    .dataframe tbody tr th {\n",
       "        vertical-align: top;\n",
       "    }\n",
       "\n",
       "    .dataframe thead th {\n",
       "        text-align: right;\n",
       "    }\n",
       "</style>\n",
       "<table border=\"1\" class=\"dataframe\">\n",
       "  <thead>\n",
       "    <tr style=\"text-align: right;\">\n",
       "      <th></th>\n",
       "      <th>price</th>\n",
       "      <th>amount</th>\n",
       "      <th>exchange</th>\n",
       "      <th>instrmnt</th>\n",
       "      <th>vol_dllr</th>\n",
       "      <th>sell2</th>\n",
       "      <th>Asset</th>\n",
       "    </tr>\n",
       "    <tr>\n",
       "      <th>datetime</th>\n",
       "      <th></th>\n",
       "      <th></th>\n",
       "      <th></th>\n",
       "      <th></th>\n",
       "      <th></th>\n",
       "      <th></th>\n",
       "      <th></th>\n",
       "    </tr>\n",
       "  </thead>\n",
       "  <tbody>\n",
       "    <tr>\n",
       "      <th>2022-08-15 00:00:59</th>\n",
       "      <td>24301.40</td>\n",
       "      <td>0.015575</td>\n",
       "      <td>polo</td>\n",
       "      <td>btc-usdt</td>\n",
       "      <td>378.494305</td>\n",
       "      <td>0.0</td>\n",
       "      <td>btc</td>\n",
       "    </tr>\n",
       "    <tr>\n",
       "      <th>2022-08-15 00:00:59</th>\n",
       "      <td>24301.40</td>\n",
       "      <td>0.000400</td>\n",
       "      <td>polo</td>\n",
       "      <td>btc-usdt</td>\n",
       "      <td>9.720560</td>\n",
       "      <td>0.0</td>\n",
       "      <td>btc</td>\n",
       "    </tr>\n",
       "    <tr>\n",
       "      <th>2022-08-15 00:01:07</th>\n",
       "      <td>24313.13</td>\n",
       "      <td>0.010722</td>\n",
       "      <td>polo</td>\n",
       "      <td>btc-usdt</td>\n",
       "      <td>260.685380</td>\n",
       "      <td>0.0</td>\n",
       "      <td>btc</td>\n",
       "    </tr>\n",
       "    <tr>\n",
       "      <th>2022-08-15 00:01:14</th>\n",
       "      <td>24295.51</td>\n",
       "      <td>0.005400</td>\n",
       "      <td>polo</td>\n",
       "      <td>btc-usdt</td>\n",
       "      <td>131.195754</td>\n",
       "      <td>0.0</td>\n",
       "      <td>btc</td>\n",
       "    </tr>\n",
       "    <tr>\n",
       "      <th>2022-08-15 00:02:56</th>\n",
       "      <td>24283.76</td>\n",
       "      <td>0.006800</td>\n",
       "      <td>polo</td>\n",
       "      <td>btc-usdt</td>\n",
       "      <td>165.129568</td>\n",
       "      <td>0.0</td>\n",
       "      <td>btc</td>\n",
       "    </tr>\n",
       "    <tr>\n",
       "      <th>...</th>\n",
       "      <td>...</td>\n",
       "      <td>...</td>\n",
       "      <td>...</td>\n",
       "      <td>...</td>\n",
       "      <td>...</td>\n",
       "      <td>...</td>\n",
       "      <td>...</td>\n",
       "    </tr>\n",
       "    <tr>\n",
       "      <th>2022-08-15 23:59:06</th>\n",
       "      <td>24102.42</td>\n",
       "      <td>0.008447</td>\n",
       "      <td>polo</td>\n",
       "      <td>btc-usdt</td>\n",
       "      <td>203.593142</td>\n",
       "      <td>0.0</td>\n",
       "      <td>btc</td>\n",
       "    </tr>\n",
       "    <tr>\n",
       "      <th>2022-08-15 23:59:07</th>\n",
       "      <td>24095.03</td>\n",
       "      <td>0.020000</td>\n",
       "      <td>polo</td>\n",
       "      <td>btc-usdt</td>\n",
       "      <td>481.900600</td>\n",
       "      <td>0.0</td>\n",
       "      <td>btc</td>\n",
       "    </tr>\n",
       "    <tr>\n",
       "      <th>2022-08-15 23:59:07</th>\n",
       "      <td>24095.03</td>\n",
       "      <td>0.005244</td>\n",
       "      <td>polo</td>\n",
       "      <td>btc-usdt</td>\n",
       "      <td>126.354337</td>\n",
       "      <td>0.0</td>\n",
       "      <td>btc</td>\n",
       "    </tr>\n",
       "    <tr>\n",
       "      <th>2022-08-15 23:59:23</th>\n",
       "      <td>24099.17</td>\n",
       "      <td>0.000403</td>\n",
       "      <td>polo</td>\n",
       "      <td>btc-usdt</td>\n",
       "      <td>9.711966</td>\n",
       "      <td>0.0</td>\n",
       "      <td>btc</td>\n",
       "    </tr>\n",
       "    <tr>\n",
       "      <th>2022-08-15 23:59:40</th>\n",
       "      <td>24101.84</td>\n",
       "      <td>0.000582</td>\n",
       "      <td>polo</td>\n",
       "      <td>btc-usdt</td>\n",
       "      <td>14.027271</td>\n",
       "      <td>0.0</td>\n",
       "      <td>btc</td>\n",
       "    </tr>\n",
       "  </tbody>\n",
       "</table>\n",
       "<p>10298 rows × 7 columns</p>\n",
       "</div>"
      ],
      "text/plain": [
       "                        price    amount exchange  instrmnt    vol_dllr  sell2   \n",
       "datetime                                                                        \n",
       "2022-08-15 00:00:59  24301.40  0.015575     polo  btc-usdt  378.494305    0.0  \\\n",
       "2022-08-15 00:00:59  24301.40  0.000400     polo  btc-usdt    9.720560    0.0   \n",
       "2022-08-15 00:01:07  24313.13  0.010722     polo  btc-usdt  260.685380    0.0   \n",
       "2022-08-15 00:01:14  24295.51  0.005400     polo  btc-usdt  131.195754    0.0   \n",
       "2022-08-15 00:02:56  24283.76  0.006800     polo  btc-usdt  165.129568    0.0   \n",
       "...                       ...       ...      ...       ...         ...    ...   \n",
       "2022-08-15 23:59:06  24102.42  0.008447     polo  btc-usdt  203.593142    0.0   \n",
       "2022-08-15 23:59:07  24095.03  0.020000     polo  btc-usdt  481.900600    0.0   \n",
       "2022-08-15 23:59:07  24095.03  0.005244     polo  btc-usdt  126.354337    0.0   \n",
       "2022-08-15 23:59:23  24099.17  0.000403     polo  btc-usdt    9.711966    0.0   \n",
       "2022-08-15 23:59:40  24101.84  0.000582     polo  btc-usdt   14.027271    0.0   \n",
       "\n",
       "                    Asset  \n",
       "datetime                   \n",
       "2022-08-15 00:00:59   btc  \n",
       "2022-08-15 00:00:59   btc  \n",
       "2022-08-15 00:01:07   btc  \n",
       "2022-08-15 00:01:14   btc  \n",
       "2022-08-15 00:02:56   btc  \n",
       "...                   ...  \n",
       "2022-08-15 23:59:06   btc  \n",
       "2022-08-15 23:59:07   btc  \n",
       "2022-08-15 23:59:07   btc  \n",
       "2022-08-15 23:59:23   btc  \n",
       "2022-08-15 23:59:40   btc  \n",
       "\n",
       "[10298 rows x 7 columns]"
      ]
     },
     "execution_count": 159,
     "metadata": {},
     "output_type": "execute_result"
    }
   ],
   "source": [
    "binance_trades_btc_ustd.sort_index()\n",
    "polinex_trades_btc_ustd.sort_index()"
   ]
  },
  {
   "cell_type": "code",
   "execution_count": 90,
   "metadata": {},
   "outputs": [
    {
     "name": "stdout",
     "output_type": "stream",
     "text": [
      "binance_trades_btc_ustd 1: Start Date = 2022-08-15 00:00:00.001999872 , End Date = 2022-08-15 23:59:59.998000128\n",
      "polinex_trades_btc_ustd 2: Start Date = 2022-08-15 00:00:59 , End Date = 2022-08-15 23:59:40\n"
     ]
    }
   ],
   "source": [
    "# Determine the start and end dates for df1\n",
    "start_date_df1 = binance_trades_btc_ustd.index.min()\n",
    "end_date_df1 = binance_trades_btc_ustd.index.max()\n",
    "\n",
    "# Determine the start and end dates for df2\n",
    "start_date_df2 = polinex_trades_btc_ustd.index.min()\n",
    "end_date_df2 = polinex_trades_btc_ustd.index.max()\n",
    "\n",
    "# Print the range of time covered by each DataFrame\n",
    "print(\"binance_trades_btc_ustd 1: Start Date =\", start_date_df1, \", End Date =\", end_date_df1)\n",
    "print(\"polinex_trades_btc_ustd 2: Start Date =\", start_date_df2, \", End Date =\", end_date_df2)"
   ]
  },
  {
   "cell_type": "code",
   "execution_count": 163,
   "metadata": {},
   "outputs": [],
   "source": [
    "# Convert the index to a DateTimeIndex\n",
    "binance_trades_btc_ustd.index = pd.DatetimeIndex(binance_trades_btc_ustd.index)\n",
    "polinex_trades_btc_ustd.index = pd.DatetimeIndex(polinex_trades_btc_ustd.index)"
   ]
  },
  {
   "cell_type": "code",
   "execution_count": 164,
   "metadata": {},
   "outputs": [
    {
     "data": {
      "text/plain": [
       "<Axes: xlabel='datetime'>"
      ]
     },
     "execution_count": 164,
     "metadata": {},
     "output_type": "execute_result"
    },
    {
     "data": {
      "image/png": "[encoded data removed]",
      "text/plain": [
       "<Figure size 800x550 with 1 Axes>"
      ]
     },
     "metadata": {},
     "output_type": "display_data"
    }
   ],
   "source": [
    "binance_trades_btc_ustd.price.plot()"
   ]
  },
  {
   "cell_type": "code",
   "execution_count": 165,
   "metadata": {},
   "outputs": [
    {
     "data": {
      "image/png": "[encoded data removed]",
      "text/plain": [
       "<Figure size 800x550 with 1 Axes>"
      ]
     },
     "metadata": {},
     "output_type": "display_data"
    }
   ],
   "source": [
    "# Create a figure and axes\n",
    "fig, ax = plt.subplots()\n",
    "\n",
    "# Plotting the 'price' column from df1\n",
    "binance_trades_btc_ustd['price'].plot(ax=ax, label='DataFrame 1')\n",
    "\n",
    "# Plotting the 'price' column from df2\n",
    "polinex_trades_btc_ustd['price'].plot(ax=ax, label='DataFrame 2')\n",
    "\n",
    "# Customize the plot\n",
    "ax.set_xlabel('X-axis Label')\n",
    "ax.set_ylabel('Y-axis Label')\n",
    "ax.set_title('Comparison of Price')\n",
    "ax.legend()\n",
    "\n",
    "# Display the plot\n",
    "plt.show()"
   ]
  },
  {
   "cell_type": "code",
   "execution_count": null,
   "metadata": {},
   "outputs": [],
   "source": []
  }
 ],
 "metadata": {
  "kernelspec": {
   "display_name": ".venv",
   "language": "python",
   "name": "python3"
  },
  "language_info": {
   "codemirror_mode": {
    "name": "ipython",
    "version": 3
   },
   "file_extension": ".py",
   "mimetype": "text/x-python",
   "name": "python",
   "nbconvert_exporter": "python",
   "pygments_lexer": "ipython3",
   "version": "3.9.15"
  },
  "orig_nbformat": 4
 },
 "nbformat": 4,
 "nbformat_minor": 2
}
